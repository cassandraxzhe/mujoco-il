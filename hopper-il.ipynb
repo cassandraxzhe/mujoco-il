{
 "cells": [
  {
   "cell_type": "markdown",
   "id": "b42c1e75",
   "metadata": {},
   "source": [
    "# Insect Hopper IL Pipeline"
   ]
  },
  {
   "cell_type": "code",
   "execution_count": 1,
   "id": "f7a1099b",
   "metadata": {},
   "outputs": [],
   "source": [
    "import scipy.io\n",
    "import torch.nn as nn\n",
    "import torch.optim as optim\n",
    "import os"
   ]
  },
  {
   "cell_type": "code",
   "execution_count": 27,
   "id": "18fa061b",
   "metadata": {},
   "outputs": [
    {
     "name": "stdout",
     "output_type": "stream",
     "text": [
      "7cm_setpoint\n",
      "closedloop23_Nemo44_2024-03-29_19-37-34.mat\n",
      "closedloop21_Nemo44_2024-03-29_19-20-55.mat\n",
      "closedloop20_Nemo44_2024-03-29_19-12-37.mat\n",
      "closedloop22_Nemo44_2024-03-29_19-32-03.mat\n",
      "closedloop18_Nemo44_2024-03-29_18-54-23.mat\n",
      "10cm_setpoint\n",
      "closedloop9_Nemo44_2024-04-25_18-50-54.mat\n",
      "closedloop10_Nemo44_2024-04-25_18-59-11.mat\n",
      "closedloop8_Nemo44_2024-04-25_18-34-18.mat\n",
      "closedloop6_Nemo44_2024-04-25_16-22-34.mat\n",
      "closedloop12_Nemo44_2024-04-25_21-00-29.mat\n",
      "closedloop7_Nemo44_2024-04-25_18-19-30.mat\n",
      "closedloop11_Nemo44_2024-04-25_19-07-59.mat\n",
      "4cm_setpoint\n",
      "closedloop14_Nemo44_2024-04-21_19-28-04.mat\n"
     ]
    },
    {
     "name": "stderr",
     "output_type": "stream",
     "text": [
      "/Users/cassandrahe/anaconda3/envs/mujoco_il/lib/python3.11/site-packages/scipy/io/matlab/_mio.py:235: MatReadWarning: Duplicate variable name \"None\" in stream - replacing previous with new\n",
      "Considerscipy.io.matlab.varmats_from_mat to split file into single variable files\n",
      "  matfile_dict = MR.get_variables(variable_names)\n"
     ]
    },
    {
     "name": "stdout",
     "output_type": "stream",
     "text": [
      "closedloop9_Nemo44_2024-04-21_18-48-33.mat\n",
      "closedloop12_Nemo44_2024-04-21_19-12-22.mat\n",
      "closedloop10_Nemo44_2024-04-21_18-56-45.mat\n",
      "closedloop11_Nemo44_2024-04-21_19-02-17.mat\n"
     ]
    }
   ],
   "source": [
    "class JumpingData:\n",
    "    \"\"\"\n",
    "    ### JumpingData Fields\n",
    "            `.Euler_XYZ`: the euler XYZ angles in *radians*.\\n\n",
    "            `.driving_signals`: control signals.\\n\n",
    "            `.torque`: the torque.\\n\n",
    "            `.position`: the position in *meters*.\n",
    "    \"\"\"\n",
    "    def __init__(self, filename: str, mat_dict: dict):\n",
    "        \"\"\"\n",
    "            ### Parameters\n",
    "            `filename` is the name of the associated .mat file. This is used as an ID.\\n\n",
    "            `mat_dict` is the dictionary returned from extracting the .mat data\n",
    "        \"\"\"\n",
    "        self.name = filename\n",
    "        self.dict = mat_dict\n",
    "\n",
    "        # Shortcuts to what we care about\n",
    "        self.Euler_XYZ = self.dict[\"rst_Eul_XYZ\"][0][0][0] # Radians\n",
    "        self.driving_signals = self.dict[\"rst_driving_signals\"][0][0][0]\n",
    "        self.torque = self.dict[\"rst_torque_b\"][0][0][0]\n",
    "        self.position = self.dict[\"rst_p_raw\"][0][0][0] # meters\n",
    "        self.thrust = self.dict[\"rst_thrust\"][0][0][0] # milligrams-force\n",
    "\n",
    "\n",
    "jumping_data_dir = \"/Users/cassandrahe/MIT Dropbox/Cassandra He/jumping_data\"\n",
    "data = []\n",
    "\n",
    "for folder in os.listdir(jumping_data_dir):\n",
    "    if folder[0] == \".\": continue # to get around whatever .DS_store files dropbox adds\n",
    "    print(folder)\n",
    "    for file in os.listdir(f\"{jumping_data_dir}/{folder}\"):\n",
    "        print(file)\n",
    "        # TODO: data processing here\n",
    "        mat = scipy.io.loadmat(f\"{jumping_data_dir}/{folder}/{file}\")\n",
    "        # print(mat.keys())\n",
    "        data.append(JumpingData(filename=file, mat_dict=mat))\n",
    "\n",
    "\n",
    "# mat = scipy.io.loadmat()#TODO: EXPERT DATA()\n",
    "    \n",
    "# print(mat.keys)\n",
    "# euler_xyz = mat[\"EulerXYZ\"]  # shape (T, 3) maybe\n",
    "# torques = mat[\"torque\"]      # shape (T, n)"
   ]
  },
  {
   "cell_type": "code",
   "execution_count": 28,
   "id": "36f1a834",
   "metadata": {},
   "outputs": [
    {
     "name": "stdout",
     "output_type": "stream",
     "text": [
      "closedloop23_Nemo44_2024-03-29_19-37-34.mat positions: [[0.00000e+00]\n",
      " [1.00000e-04]\n",
      " [2.00000e-04]\n",
      " ...\n",
      " [1.49998e+01]\n",
      " [1.49999e+01]\n",
      " [1.50000e+01]]\n"
     ]
    }
   ],
   "source": [
    "data_7cm_1 = data[0]\n",
    "print(f\"{data_7cm_1.name} positions: {data_7cm_1.position}\")"
   ]
  },
  {
   "cell_type": "markdown",
   "id": "1bd2da37",
   "metadata": {},
   "source": [
    "## Wrap Dataset for BC"
   ]
  },
  {
   "cell_type": "code",
   "execution_count": null,
   "id": "86569fc6",
   "metadata": {},
   "outputs": [],
   "source": [
    "import torch\n",
    "from torch.utils.data import Dataset\n",
    "\n",
    "class HopperExpertDataset(Dataset):\n",
    "    def __init__(self, matfile):\n",
    "        mat = scipy.io.loadmat(matfile)\n",
    "        self.obs = mat[\"EulerXYZ\"]  # plus other signals (vel, etc.)\n",
    "        self.acts = mat[\"torque\"]   # actuator targets\n",
    "\n",
    "    def __len__(self):\n",
    "        return len(self.obs)\n",
    "\n",
    "    def __getitem__(self, idx):\n",
    "        obs = torch.tensor(self.obs[idx], dtype=torch.float32)\n",
    "        act = torch.tensor(self.acts[idx], dtype=torch.float32)\n",
    "        return obs, act\n"
   ]
  },
  {
   "cell_type": "markdown",
   "id": "e4d0635f",
   "metadata": {},
   "source": [
    "## Minial BC Loop"
   ]
  },
  {
   "cell_type": "code",
   "execution_count": null,
   "id": "0140c619",
   "metadata": {},
   "outputs": [],
   "source": [
    "policy = nn.Sequential(\n",
    "    nn.Linear(obs_dim, 128),\n",
    "    nn.ReLU(),\n",
    "    nn.Linear(128, act_dim)\n",
    ")\n",
    "\n",
    "dataset = HopperExpertDataset(\"expert_data.mat\")\n",
    "loader = torch.utils.data.DataLoader(dataset, batch_size=64, shuffle=True)\n",
    "\n",
    "opt = optim.Adam(policy.parameters(), lr=1e-3)\n",
    "loss_fn = nn.MSELoss()\n",
    "\n",
    "for epoch in range(20):\n",
    "    for obs, act in loader:\n",
    "        pred = policy(obs)\n",
    "        loss = loss_fn(pred, act)\n",
    "        opt.zero_grad()\n",
    "        loss.backward()\n",
    "        opt.step()\n",
    "    print(f\"Epoch {epoch}: Loss={loss.item()}\")"
   ]
  }
 ],
 "metadata": {
  "kernelspec": {
   "display_name": "mujoco_il",
   "language": "python",
   "name": "python3"
  },
  "language_info": {
   "codemirror_mode": {
    "name": "ipython",
    "version": 3
   },
   "file_extension": ".py",
   "mimetype": "text/x-python",
   "name": "python",
   "nbconvert_exporter": "python",
   "pygments_lexer": "ipython3",
   "version": "3.11.13"
  }
 },
 "nbformat": 4,
 "nbformat_minor": 5
}
