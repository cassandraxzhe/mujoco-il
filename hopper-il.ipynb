{
 "cells": [
  {
   "cell_type": "markdown",
   "id": "b42c1e75",
   "metadata": {},
   "source": [
    "# Insect Hopper IL Pipeline"
   ]
  },
  {
   "cell_type": "code",
   "execution_count": 34,
   "id": "f7a1099b",
   "metadata": {},
   "outputs": [],
   "source": [
    "import scipy.io\n",
    "import torch.nn as nn\n",
    "import torch.optim as optim\n",
    "import os\n",
    "import mujoco\n",
    "import mujoco.viewer\n",
    "import dm_control\n",
    "import mediapy as media"
   ]
  },
  {
   "cell_type": "code",
   "execution_count": 35,
   "id": "2217e5fc",
   "metadata": {},
   "outputs": [
    {
     "data": {
      "text/html": [
       "<table class=\"show_videos\" style=\"border-spacing:0px;\"><tr><td style=\"padding:1px;\"><video controls width=\"320\" height=\"240\" style=\"object-fit:cover;\" loop autoplay muted>\n",
       "      <source src=\"data:video/mp4;base64,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\" type=\"video/mp4\"/>\n",
       "      This browser does not support the video tag.\n",
       "      </video></td></tr></table>"
      ],
      "text/plain": [
       "<IPython.core.display.HTML object>"
      ]
     },
     "metadata": {},
     "output_type": "display_data"
    },
    {
     "name": "stderr",
     "output_type": "stream",
     "text": [
      "2025-08-23 16:19:04.103 python[5331:17780922] TSM AdjustCapsLockLEDForKeyTransitionHandling - _ISSetPhysicalKeyboardCapsLockLED Inhibit\n"
     ]
    }
   ],
   "source": [
    "model = mujoco.MjModel.from_xml_path(\"hopper.xml\")\n",
    "# model = mujoco.MjModel.from_xml_string(xml)\n",
    "data = mujoco.MjData(model)\n",
    "\n",
    "# enable joint visualization option:\n",
    "scene_option = mujoco.MjvOption()\n",
    "scene_option.flags[mujoco.mjtVisFlag.mjVIS_JOINT] = True\n",
    "\n",
    "duration = 3.8  # (seconds)\n",
    "framerate = 60  # (Hz)\n",
    "\n",
    "# Simulate and display video.\n",
    "frames = []\n",
    "mujoco.mj_resetData(model, data)\n",
    "with mujoco.Renderer(model) as renderer:\n",
    "  while data.time < duration:\n",
    "    mujoco.mj_step(model, data)\n",
    "    if len(frames) < data.time * framerate:\n",
    "      renderer.update_scene(data, scene_option=scene_option)\n",
    "      pixels = renderer.render()\n",
    "      frames.append(pixels)\n",
    "\n",
    "media.show_video(frames, fps=framerate)\n",
    "\n",
    "viewer = mujoco.viewer\n",
    "\n",
    "viewer.launch(model, data)\n"
   ]
  },
  {
   "cell_type": "code",
   "execution_count": 27,
   "id": "18fa061b",
   "metadata": {},
   "outputs": [
    {
     "name": "stdout",
     "output_type": "stream",
     "text": [
      "7cm_setpoint\n",
      "closedloop23_Nemo44_2024-03-29_19-37-34.mat\n",
      "closedloop21_Nemo44_2024-03-29_19-20-55.mat\n",
      "closedloop20_Nemo44_2024-03-29_19-12-37.mat\n",
      "closedloop22_Nemo44_2024-03-29_19-32-03.mat\n",
      "closedloop18_Nemo44_2024-03-29_18-54-23.mat\n",
      "10cm_setpoint\n",
      "closedloop9_Nemo44_2024-04-25_18-50-54.mat\n",
      "closedloop10_Nemo44_2024-04-25_18-59-11.mat\n",
      "closedloop8_Nemo44_2024-04-25_18-34-18.mat\n",
      "closedloop6_Nemo44_2024-04-25_16-22-34.mat\n",
      "closedloop12_Nemo44_2024-04-25_21-00-29.mat\n",
      "closedloop7_Nemo44_2024-04-25_18-19-30.mat\n",
      "closedloop11_Nemo44_2024-04-25_19-07-59.mat\n",
      "4cm_setpoint\n",
      "closedloop14_Nemo44_2024-04-21_19-28-04.mat\n"
     ]
    },
    {
     "name": "stderr",
     "output_type": "stream",
     "text": [
      "/Users/cassandrahe/anaconda3/envs/mujoco_il/lib/python3.11/site-packages/scipy/io/matlab/_mio.py:235: MatReadWarning: Duplicate variable name \"None\" in stream - replacing previous with new\n",
      "Considerscipy.io.matlab.varmats_from_mat to split file into single variable files\n",
      "  matfile_dict = MR.get_variables(variable_names)\n"
     ]
    },
    {
     "name": "stdout",
     "output_type": "stream",
     "text": [
      "closedloop9_Nemo44_2024-04-21_18-48-33.mat\n",
      "closedloop12_Nemo44_2024-04-21_19-12-22.mat\n",
      "closedloop10_Nemo44_2024-04-21_18-56-45.mat\n",
      "closedloop11_Nemo44_2024-04-21_19-02-17.mat\n"
     ]
    }
   ],
   "source": [
    "class JumpingData:\n",
    "    \"\"\"\n",
    "    ### JumpingData Fields\n",
    "            `.Euler_XYZ`: the euler XYZ angles in *radians*.\\n\n",
    "            `.driving_signals`: control signals.\\n\n",
    "            `.torque`: the torque.\\n\n",
    "            `.position`: the position in *meters*.\n",
    "    \"\"\"\n",
    "    def __init__(self, filename: str, mat_dict: dict):\n",
    "        \"\"\"\n",
    "            ### Parameters\n",
    "            `filename` is the name of the associated .mat file. This is used as an ID.\\n\n",
    "            `mat_dict` is the dictionary returned from extracting the .mat data\n",
    "        \"\"\"\n",
    "        self.name = filename\n",
    "        self.dict = mat_dict\n",
    "\n",
    "        # Shortcuts to what we care about\n",
    "        self.Euler_XYZ = self.dict[\"rst_Eul_XYZ\"][0][0][0] # Radians\n",
    "        self.driving_signals = self.dict[\"rst_driving_signals\"][0][0][0]\n",
    "        self.torque = self.dict[\"rst_torque_b\"][0][0][0]\n",
    "        self.position = self.dict[\"rst_p_raw\"][0][0][0] # meters\n",
    "        self.thrust = self.dict[\"rst_thrust\"][0][0][0] # milligrams-force\n",
    "\n",
    "\n",
    "jumping_data_dir = \"/Users/cassandrahe/MIT Dropbox/Cassandra He/jumping_data\"\n",
    "data = []\n",
    "\n",
    "for folder in os.listdir(jumping_data_dir):\n",
    "    if folder[0] == \".\": continue # to get around whatever .DS_store files dropbox adds\n",
    "    print(folder)\n",
    "    for file in os.listdir(f\"{jumping_data_dir}/{folder}\"):\n",
    "        print(file)\n",
    "        # TODO: data processing here\n",
    "        mat = scipy.io.loadmat(f\"{jumping_data_dir}/{folder}/{file}\")\n",
    "        # print(mat.keys())\n",
    "        data.append(JumpingData(filename=file, mat_dict=mat))\n",
    "\n",
    "\n",
    "# mat = scipy.io.loadmat()#TODO: EXPERT DATA()\n",
    "    \n",
    "# print(mat.keys)\n",
    "# euler_xyz = mat[\"EulerXYZ\"]  # shape (T, 3) maybe\n",
    "# torques = mat[\"torque\"]      # shape (T, n)"
   ]
  },
  {
   "cell_type": "code",
   "execution_count": 28,
   "id": "36f1a834",
   "metadata": {},
   "outputs": [
    {
     "name": "stdout",
     "output_type": "stream",
     "text": [
      "closedloop23_Nemo44_2024-03-29_19-37-34.mat positions: [[0.00000e+00]\n",
      " [1.00000e-04]\n",
      " [2.00000e-04]\n",
      " ...\n",
      " [1.49998e+01]\n",
      " [1.49999e+01]\n",
      " [1.50000e+01]]\n"
     ]
    }
   ],
   "source": [
    "data_7cm_1 = data[0]\n",
    "print(f\"{data_7cm_1.name} positions: {data_7cm_1.position}\")"
   ]
  },
  {
   "cell_type": "markdown",
   "id": "1bd2da37",
   "metadata": {},
   "source": [
    "## Wrap Dataset for BC"
   ]
  },
  {
   "cell_type": "code",
   "execution_count": null,
   "id": "86569fc6",
   "metadata": {},
   "outputs": [],
   "source": [
    "import torch\n",
    "from torch.utils.data import Dataset\n",
    "\n",
    "class HopperExpertDataset(Dataset):\n",
    "    def __init__(self, matfile):\n",
    "        mat = scipy.io.loadmat(matfile)\n",
    "        self.obs = mat[\"EulerXYZ\"]  # plus other signals (vel, etc.)\n",
    "        self.acts = mat[\"torque\"]   # actuator targets\n",
    "\n",
    "    def __len__(self):\n",
    "        return len(self.obs)\n",
    "\n",
    "    def __getitem__(self, idx):\n",
    "        obs = torch.tensor(self.obs[idx], dtype=torch.float32)\n",
    "        act = torch.tensor(self.acts[idx], dtype=torch.float32)\n",
    "        return obs, act\n"
   ]
  },
  {
   "cell_type": "markdown",
   "id": "e4d0635f",
   "metadata": {},
   "source": [
    "## Minial BC Loop"
   ]
  },
  {
   "cell_type": "code",
   "execution_count": null,
   "id": "0140c619",
   "metadata": {},
   "outputs": [],
   "source": [
    "policy = nn.Sequential(\n",
    "    nn.Linear(obs_dim, 128),\n",
    "    nn.ReLU(),\n",
    "    nn.Linear(128, act_dim)\n",
    ")\n",
    "\n",
    "dataset = HopperExpertDataset(\"expert_data.mat\")\n",
    "loader = torch.utils.data.DataLoader(dataset, batch_size=64, shuffle=True)\n",
    "\n",
    "opt = optim.Adam(policy.parameters(), lr=1e-3)\n",
    "loss_fn = nn.MSELoss()\n",
    "\n",
    "for epoch in range(20):\n",
    "    for obs, act in loader:\n",
    "        pred = policy(obs)\n",
    "        loss = loss_fn(pred, act)\n",
    "        opt.zero_grad()\n",
    "        loss.backward()\n",
    "        opt.step()\n",
    "    print(f\"Epoch {epoch}: Loss={loss.item()}\")"
   ]
  }
 ],
 "metadata": {
  "kernelspec": {
   "display_name": "mujoco_il",
   "language": "python",
   "name": "python3"
  },
  "language_info": {
   "codemirror_mode": {
    "name": "ipython",
    "version": 3
   },
   "file_extension": ".py",
   "mimetype": "text/x-python",
   "name": "python",
   "nbconvert_exporter": "python",
   "pygments_lexer": "ipython3",
   "version": "3.11.13"
  }
 },
 "nbformat": 4,
 "nbformat_minor": 5
}
